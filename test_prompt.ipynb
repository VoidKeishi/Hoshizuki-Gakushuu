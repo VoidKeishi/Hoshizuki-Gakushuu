{
 "cells": [
  {
   "cell_type": "markdown",
   "metadata": {},
   "source": [
    "# This code focuses on Prompt Engineering "
   ]
  },
  {
   "cell_type": "code",
   "execution_count": 2,
   "metadata": {},
   "outputs": [],
   "source": [
    "import os\n",
    "import openai\n",
    "from IPython.display import display, HTML\n",
    "openai.api_type = \"azure\"\n",
    "openai.api_version = \"2023-05-15\" \n",
    "openai.api_base = (\"https://sunhackathon22.openai.azure.com/\")  # Your Azure OpenAI resource's endpoint value.\n",
    "openai.api_key = ('16ed8a71e992441f98be936d5767fea4')"
   ]
  },
  {
   "cell_type": "markdown",
   "metadata": {},
   "source": [
    "## Get message and return to response"
   ]
  },
  {
   "cell_type": "code",
   "execution_count": 56,
   "metadata": {},
   "outputs": [
    {
     "name": "stdout",
     "output_type": "stream",
     "text": [
      "\n",
      "Hello! How can I assist you today?\n",
      "\n",
      "[{'role': 'system', 'content': 'You are a helpful assistant.'}, {'role': 'user', 'content': 'hello'}, {'role': 'assistant', 'content': 'Hello! How can I assist you today?'}]\n",
      "\n",
      "Hello! How can I assist you today?\n",
      "\n",
      "[{'role': 'system', 'content': 'You are a helpful assistant.'}, {'role': 'user', 'content': 'hello'}, {'role': 'assistant', 'content': 'Hello! How can I assist you today?'}, {'role': 'user', 'content': ''}, {'role': 'assistant', 'content': 'Hello! How can I assist you today?'}]\n",
      "\n",
      "Hello! How can I assist you today?\n",
      "\n",
      "[{'role': 'system', 'content': 'You are a helpful assistant.'}, {'role': 'user', 'content': 'hello'}, {'role': 'assistant', 'content': 'Hello! How can I assist you today?'}, {'role': 'user', 'content': ''}, {'role': 'assistant', 'content': 'Hello! How can I assist you today?'}, {'role': 'user', 'content': ''}, {'role': 'assistant', 'content': 'Hello! How can I assist you today?'}]\n",
      "\n",
      "Hello! How can I assist you today?\n",
      "\n",
      "[{'role': 'system', 'content': 'You are a helpful assistant.'}, {'role': 'user', 'content': 'hello'}, {'role': 'assistant', 'content': 'Hello! How can I assist you today?'}, {'role': 'user', 'content': ''}, {'role': 'assistant', 'content': 'Hello! How can I assist you today?'}, {'role': 'user', 'content': ''}, {'role': 'assistant', 'content': 'Hello! How can I assist you today?'}, {'role': 'user', 'content': ''}, {'role': 'assistant', 'content': 'Hello! How can I assist you today?'}]\n",
      "\n",
      "\"Rest when you're weary. Refresh and renew yourself, your body, your mind, your spirit. Then get back to work.\" - Ralph Marston\n",
      "\n",
      "\"The only way to do great work is to love what you do.\" - Steve Jobs\n",
      "\n",
      "\"Success is no accident. It is hard work, perseverance, learning, studying, sacrifice and most of all, love of what you are doing.\" - Pelé\n",
      "\n",
      "“Don’t watch the clock; do what it does. Keep going.” - Sam Levenson\n",
      "\n",
      "\"Success is not final, failure is not fatal: It is the courage to continue that counts.\" - Winston Churchill\n",
      "\n",
      "[{'role': 'system', 'content': 'You are a helpful assistant.'}, {'role': 'user', 'content': 'hello'}, {'role': 'assistant', 'content': 'Hello! How can I assist you today?'}, {'role': 'user', 'content': ''}, {'role': 'assistant', 'content': 'Hello! How can I assist you today?'}, {'role': 'user', 'content': ''}, {'role': 'assistant', 'content': 'Hello! How can I assist you today?'}, {'role': 'user', 'content': ''}, {'role': 'assistant', 'content': 'Hello! How can I assist you today?'}, {'role': 'user', 'content': 'can you give me some quote for last day tired'}, {'role': 'assistant', 'content': '\"Rest when you\\'re weary. Refresh and renew yourself, your body, your mind, your spirit. Then get back to work.\" - Ralph Marston\\n\\n\"The only way to do great work is to love what you do.\" - Steve Jobs\\n\\n\"Success is no accident. It is hard work, perseverance, learning, studying, sacrifice and most of all, love of what you are doing.\" - Pelé\\n\\n“Don’t watch the clock; do what it does. Keep going.” - Sam Levenson\\n\\n\"Success is not final, failure is not fatal: It is the courage to continue that counts.\" - Winston Churchill'}]\n",
      "\n",
      "\"Take pride in how far you've come and have faith in how far you can go. Even on the toughest days, remember that you have accomplished so much already.\" - Unknown\n",
      "\n",
      "\"When you feel like quitting, think about why you started in the first place.\" - Unknown\n",
      "\n",
      "\"Every accomplishment starts with the decision to try.\" - Unknown\n",
      "\n",
      "\"Fatigue is just the feeling of a well-used muscle. Embrace it as a sign of progress.\" - Unknown\n",
      "\n",
      "\"Finish strong. Don't just survive the day, thrive in it.\" - Unknown\n",
      "\n",
      "[{'role': 'system', 'content': 'You are a helpful assistant.'}, {'role': 'user', 'content': 'hello'}, {'role': 'assistant', 'content': 'Hello! How can I assist you today?'}, {'role': 'user', 'content': ''}, {'role': 'assistant', 'content': 'Hello! How can I assist you today?'}, {'role': 'user', 'content': ''}, {'role': 'assistant', 'content': 'Hello! How can I assist you today?'}, {'role': 'user', 'content': ''}, {'role': 'assistant', 'content': 'Hello! How can I assist you today?'}, {'role': 'user', 'content': 'can you give me some quote for last day tired'}, {'role': 'assistant', 'content': '\"Rest when you\\'re weary. Refresh and renew yourself, your body, your mind, your spirit. Then get back to work.\" - Ralph Marston\\n\\n\"The only way to do great work is to love what you do.\" - Steve Jobs\\n\\n\"Success is no accident. It is hard work, perseverance, learning, studying, sacrifice and most of all, love of what you are doing.\" - Pelé\\n\\n“Don’t watch the clock; do what it does. Keep going.” - Sam Levenson\\n\\n\"Success is not final, failure is not fatal: It is the courage to continue that counts.\" - Winston Churchill'}, {'role': 'user', 'content': ''}, {'role': 'assistant', 'content': '\"Take pride in how far you\\'ve come and have faith in how far you can go. Even on the toughest days, remember that you have accomplished so much already.\" - Unknown\\n\\n\"When you feel like quitting, think about why you started in the first place.\" - Unknown\\n\\n\"Every accomplishment starts with the decision to try.\" - Unknown\\n\\n\"Fatigue is just the feeling of a well-used muscle. Embrace it as a sign of progress.\" - Unknown\\n\\n\"Finish strong. Don\\'t just survive the day, thrive in it.\" - Unknown'}]\n",
      "\n",
      "\"Rest when you're weary. Refresh and renew yourself, your body, your mind, your spirit. Then get back to work.\" - Ralph Marston\n",
      "\n",
      "\"The only way to do great work is to love what you do.\" - Steve Jobs\n",
      "\n",
      "\"Success is no accident. It is hard work, perseverance, learning, studying, sacrifice and most of all, love of what you are doing.\" - Pelé\n",
      "\n",
      "“Don’t watch the clock; do what it does. Keep going.” - Sam Levenson\n",
      "\n",
      "\"Success is not final, failure is not fatal: It is the courage to continue that counts.\" - Winston Churchill\n",
      "\n",
      "[{'role': 'system', 'content': 'You are a helpful assistant.'}, {'role': 'user', 'content': 'hello'}, {'role': 'assistant', 'content': 'Hello! How can I assist you today?'}, {'role': 'user', 'content': ''}, {'role': 'assistant', 'content': 'Hello! How can I assist you today?'}, {'role': 'user', 'content': ''}, {'role': 'assistant', 'content': 'Hello! How can I assist you today?'}, {'role': 'user', 'content': ''}, {'role': 'assistant', 'content': 'Hello! How can I assist you today?'}, {'role': 'user', 'content': 'can you give me some quote for last day tired'}, {'role': 'assistant', 'content': '\"Rest when you\\'re weary. Refresh and renew yourself, your body, your mind, your spirit. Then get back to work.\" - Ralph Marston\\n\\n\"The only way to do great work is to love what you do.\" - Steve Jobs\\n\\n\"Success is no accident. It is hard work, perseverance, learning, studying, sacrifice and most of all, love of what you are doing.\" - Pelé\\n\\n“Don’t watch the clock; do what it does. Keep going.” - Sam Levenson\\n\\n\"Success is not final, failure is not fatal: It is the courage to continue that counts.\" - Winston Churchill'}, {'role': 'user', 'content': ''}, {'role': 'assistant', 'content': '\"Take pride in how far you\\'ve come and have faith in how far you can go. Even on the toughest days, remember that you have accomplished so much already.\" - Unknown\\n\\n\"When you feel like quitting, think about why you started in the first place.\" - Unknown\\n\\n\"Every accomplishment starts with the decision to try.\" - Unknown\\n\\n\"Fatigue is just the feeling of a well-used muscle. Embrace it as a sign of progress.\" - Unknown\\n\\n\"Finish strong. Don\\'t just survive the day, thrive in it.\" - Unknown'}, {'role': 'user', 'content': ''}, {'role': 'assistant', 'content': '\"Rest when you\\'re weary. Refresh and renew yourself, your body, your mind, your spirit. Then get back to work.\" - Ralph Marston\\n\\n\"The only way to do great work is to love what you do.\" - Steve Jobs\\n\\n\"Success is no accident. It is hard work, perseverance, learning, studying, sacrifice and most of all, love of what you are doing.\" - Pelé\\n\\n“Don’t watch the clock; do what it does. Keep going.” - Sam Levenson\\n\\n\"Success is not final, failure is not fatal: It is the courage to continue that counts.\" - Winston Churchill'}]\n"
     ]
    }
   ],
   "source": [
    "conversation=[{\"role\": \"system\", \"content\": \"You are a helpful assistant.\"}]\n",
    "\n",
    "while True:\n",
    "    user_input = input()      \n",
    "    conversation.append({\"role\": \"user\", \"content\": user_input})\n",
    "\n",
    "    response = openai.ChatCompletion.create(\n",
    "        engine=\"GPT35TURBO16K\", # The deployment name you chose when you deployed the GPT-35-turbo or GPT-4 model.\n",
    "        messages=conversation,\n",
    "        temperature = 1\n",
    "    )\n",
    "\n",
    "    conversation.append({\"role\": \"assistant\", \"content\": response[\"choices\"][0][\"message\"][\"content\"]})\n",
    "    print(\"\\n\" + response['choices'][0]['message']['content'] + \"\\n\")\n",
    "    print(conversation)"
   ]
  },
  {
   "cell_type": "code",
   "execution_count": 12,
   "metadata": {},
   "outputs": [],
   "source": [
    "def get_completion(prompt, model=\"GPT35TURBO16K\"):\n",
    "    messages = [{\"role\": \"user\", \"content\": prompt}]\n",
    "    response = openai.ChatCompletion.create(\n",
    "        engine=model,\n",
    "        messages=messages,\n",
    "        temperature=0, # this is the degree of randomness of the model's output\n",
    "    )\n",
    "    return response.choices[0].message[\"content\"]"
   ]
  },
  {
   "cell_type": "markdown",
   "metadata": {},
   "source": [
    "### Make HTML"
   ]
  },
  {
   "cell_type": "code",
   "execution_count": 17,
   "metadata": {},
   "outputs": [
    {
     "data": {
      "text/html": [
       "<!DOCTYPE html>\n",
       "<html>\n",
       "<head>\n",
       "<style>\n",
       "table {\n",
       "  font-family: Arial, sans-serif;\n",
       "  border-collapse: collapse;\n",
       "  width: 100%;\n",
       "}\n",
       "\n",
       "td, th {\n",
       "  border: 1px solid #dddddd;\n",
       "  text-align: left;\n",
       "  padding: 8px;\n",
       "}\n",
       "\n",
       "th {\n",
       "  background-color: #dddddd;\n",
       "}\n",
       "</style>\n",
       "</head>\n",
       "<body>\n",
       "\n",
       "<div>\n",
       "  <h2>Class A, B, C Network Information</h2>\n",
       "  <table>\n",
       "    <tr>\n",
       "      <th>Class</th>\n",
       "      <th>Range</th>\n",
       "      <th>Amount</th>\n",
       "    </tr>\n",
       "    <tr>\n",
       "      <td>A</td>\n",
       "      <td>1.0.0.0 - 126.0.0.0</td>\n",
       "      <td>16,777,214</td>\n",
       "    </tr>\n",
       "    <tr>\n",
       "      <td>B</td>\n",
       "      <td>128.0.0.0 - 191.255.0.0</td>\n",
       "      <td>65,534</td>\n",
       "    </tr>\n",
       "    <tr>\n",
       "      <td>C</td>\n",
       "      <td>192.0.0.0 - 223.255.255.0</td>\n",
       "      <td>254</td>\n",
       "    </tr>\n",
       "  </table>\n",
       "</div>\n",
       "\n",
       "</body>\n",
       "</html>"
      ],
      "text/plain": [
       "<IPython.core.display.HTML object>"
      ]
     },
     "metadata": {},
     "output_type": "display_data"
    }
   ],
   "source": [
    "prompt = \"Make table about Class A, B, C in network with title is class, range, amount,?\\\n",
    "         Format everything as HTML that can be used in a website.  Place the description in a <div> element.\"\n",
    "response = get_completion(prompt)\n",
    "\n",
    "display(HTML(response))"
   ]
  },
  {
   "cell_type": "markdown",
   "metadata": {},
   "source": [
    "## Task: Summary\n",
    "### Summarize with a word/sentence/character limit"
   ]
  },
  {
   "cell_type": "code",
   "execution_count": 18,
   "metadata": {},
   "outputs": [
    {
     "name": "stdout",
     "output_type": "stream",
     "text": [
      "This panda plush toy is loved by the reviewer's daughter and has a friendly look. However, it is smaller than expected and there may be better options for the same price. The reviewer received it earlier than expected.\n"
     ]
    }
   ],
   "source": [
    "prod_review = \"\"\"\n",
    "Got this panda plush toy for my daughter's birthday, \\\n",
    "who loves it and takes it everywhere. It's soft and \\ \n",
    "super cute, and its face has a friendly look. It's \\ \n",
    "a bit small for what I paid though. I think there \\ \n",
    "might be other options that are bigger for the \\ \n",
    "same price. It arrived a day earlier than expected, \\ \n",
    "so I got to play with it myself before I gave it \\ \n",
    "to her.\n",
    "\"\"\"\n",
    "\n",
    "prompt = f\"\"\"\n",
    "Your task is to generate a short summary of a product \\\n",
    "review from an ecommerce site. \n",
    "\n",
    "Summarize the review below, delimited by triple \n",
    "backticks, in at most 50 words. \n",
    "\n",
    "Review: ```{prod_review}```\n",
    "\"\"\"\n",
    "\n",
    "response = get_completion(prompt)\n",
    "print(response)\n"
   ]
  },
  {
   "cell_type": "markdown",
   "metadata": {},
   "source": [
    "### Summarize with a focus on"
   ]
  },
  {
   "cell_type": "code",
   "execution_count": 19,
   "metadata": {},
   "outputs": [
    {
     "name": "stdout",
     "output_type": "stream",
     "text": [
      "The customer is happy with the product but suggests offering larger options for the same price. They were pleasantly surprised by the early delivery.\n"
     ]
    }
   ],
   "source": [
    "prompt = f\"\"\"\n",
    "Your task is to generate a short summary of a product \\\n",
    "review from an ecommerce site to give feedback to the \\\n",
    "Shipping deparmtment. \n",
    "\n",
    "Summarize the review below, delimited by triple \n",
    "backticks, in at most 30 words, and focusing on any aspects \\\n",
    "that mention shipping and delivery of the product. \n",
    "\n",
    "Review: ```{prod_review}```\n",
    "\"\"\"\n",
    "\n",
    "response = get_completion(prompt)\n",
    "print(response)\n"
   ]
  },
  {
   "cell_type": "markdown",
   "metadata": {},
   "source": [
    "### Extract from summary"
   ]
  },
  {
   "cell_type": "code",
   "execution_count": 20,
   "metadata": {},
   "outputs": [
    {
     "name": "stdout",
     "output_type": "stream",
     "text": [
      "The shipping department should take note that the product arrived a day earlier than expected.\n"
     ]
    }
   ],
   "source": [
    "prompt = f\"\"\"\n",
    "Your task is to extract relevant information from \\ \n",
    "a product review from an ecommerce site to give \\\n",
    "feedback to the Shipping department. \n",
    "\n",
    "From the review below, delimited by triple quotes \\\n",
    "extract the information relevant to shipping and \\ \n",
    "delivery. Limit to 30 words. \n",
    "\n",
    "Review: ```{prod_review}```\n",
    "\"\"\"\n",
    "\n",
    "response = get_completion(prompt)\n",
    "print(response)"
   ]
  },
  {
   "cell_type": "markdown",
   "metadata": {},
   "source": [
    "### Summarize multiple product reviews"
   ]
  },
  {
   "cell_type": "code",
   "execution_count": 21,
   "metadata": {},
   "outputs": [],
   "source": [
    "\n",
    "review_1 = prod_review \n",
    "\n",
    "# review for a standing lamp\n",
    "review_2 = \"\"\"\n",
    "Needed a nice lamp for my bedroom, and this one \\\n",
    "had additional storage and not too high of a price \\\n",
    "point. Got it fast - arrived in 2 days. The string \\\n",
    "to the lamp broke during the transit and the company \\\n",
    "happily sent over a new one. Came within a few days \\\n",
    "as well. It was easy to put together. Then I had a \\\n",
    "missing part, so I contacted their support and they \\\n",
    "very quickly got me the missing piece! Seems to me \\\n",
    "to be a great company that cares about their customers \\\n",
    "and products. \n",
    "\"\"\"\n",
    "\n",
    "# review for an electric toothbrush\n",
    "review_3 = \"\"\"\n",
    "My dental hygienist recommended an electric toothbrush, \\\n",
    "which is why I got this. The battery life seems to be \\\n",
    "pretty impressive so far. After initial charging and \\\n",
    "leaving the charger plugged in for the first week to \\\n",
    "condition the battery, I've unplugged the charger and \\\n",
    "been using it for twice daily brushing for the last \\\n",
    "3 weeks all on the same charge. But the toothbrush head \\\n",
    "is too small. I’ve seen baby toothbrushes bigger than \\\n",
    "this one. I wish the head was bigger with different \\\n",
    "length bristles to get between teeth better because \\\n",
    "this one doesn’t.  Overall if you can get this one \\\n",
    "around the $50 mark, it's a good deal. The manufactuer's \\\n",
    "replacements heads are pretty expensive, but you can \\\n",
    "get generic ones that're more reasonably priced. This \\\n",
    "toothbrush makes me feel like I've been to the dentist \\\n",
    "every day. My teeth feel sparkly clean! \n",
    "\"\"\"\n",
    "\n",
    "# review for a blender\n",
    "review_4 = \"\"\"\n",
    "So, they still had the 17 piece system on seasonal \\\n",
    "sale for around $49 in the month of November, about \\\n",
    "half off, but for some reason (call it price gouging) \\\n",
    "around the second week of December the prices all went \\\n",
    "up to about anywhere from between $70-$89 for the same \\\n",
    "system. And the 11 piece system went up around $10 or \\\n",
    "so in price also from the earlier sale price of $29. \\\n",
    "So it looks okay, but if you look at the base, the part \\\n",
    "where the blade locks into place doesn’t look as good \\\n",
    "as in previous editions from a few years ago, but I \\\n",
    "plan to be very gentle with it (example, I crush \\\n",
    "very hard items like beans, ice, rice, etc. in the \\ \n",
    "blender first then pulverize them in the serving size \\\n",
    "I want in the blender then switch to the whipping \\\n",
    "blade for a finer flour, and use the cross cutting blade \\\n",
    "first when making smoothies, then use the flat blade \\\n",
    "if I need them finer/less pulpy). Special tip when making \\\n",
    "smoothies, finely cut and freeze the fruits and \\\n",
    "vegetables (if using spinach-lightly stew soften the \\ \n",
    "spinach then freeze until ready for use-and if making \\\n",
    "sorbet, use a small to medium sized food processor) \\ \n",
    "that you plan to use that way you can avoid adding so \\\n",
    "much ice if at all-when making your smoothie. \\\n",
    "After about a year, the motor was making a funny noise. \\\n",
    "I called customer service but the warranty expired \\\n",
    "already, so I had to buy another one. FYI: The overall \\\n",
    "quality has gone done in these types of products, so \\\n",
    "they are kind of counting on brand recognition and \\\n",
    "consumer loyalty to maintain sales. Got it in about \\\n",
    "two days.\n",
    "\"\"\"\n",
    "\n",
    "reviews = [review_1, review_2, review_3, review_4]\n",
    "\n"
   ]
  },
  {
   "cell_type": "code",
   "execution_count": 22,
   "metadata": {},
   "outputs": [
    {
     "name": "stdout",
     "output_type": "stream",
     "text": [
      "0 Panda plush toy is loved by daughter, soft and cute, but small for the price. Arrived early. \n",
      "\n",
      "1 Great lamp with storage, fast delivery, excellent customer service, and easy assembly. Highly recommended. \n",
      "\n",
      "2 The reviewer recommends the electric toothbrush for its impressive battery life, but criticizes the small brush head. \n",
      "\n",
      "3 The reviewer found the price increase after the sale disappointing and noticed a decrease in quality. \n",
      "\n"
     ]
    }
   ],
   "source": [
    "for i in range(len(reviews)):\n",
    "    prompt = f\"\"\"\n",
    "    Your task is to generate a short summary of a product \\ \n",
    "    review from an ecommerce site. \n",
    "\n",
    "    Summarize the review below, delimited by triple \\\n",
    "    backticks in at most 20 words. \n",
    "\n",
    "    Review: ```{reviews[i]}```\n",
    "    \"\"\"\n",
    "\n",
    "    response = get_completion(prompt)\n",
    "    print(i, response, \"\\n\")\n"
   ]
  },
  {
   "cell_type": "markdown",
   "metadata": {},
   "source": [
    "## Task: Translate"
   ]
  },
  {
   "cell_type": "code",
   "execution_count": 27,
   "metadata": {},
   "outputs": [
    {
     "name": "stdout",
     "output_type": "stream",
     "text": [
      "申し訳ありませんが、駅へ行く方法をご存知ですか？\n"
     ]
    }
   ],
   "source": [
    "text_translate = \"죄송합니다, 기차역으로 가는 방법을 아시나요? \"\n",
    "\n",
    "# Translate\n",
    "prompt = f\"\"\"\n",
    "Translate the following  text to Japanense \\\n",
    ": ```{text_translate}```\n",
    "\"\"\"\n",
    "response = get_completion(prompt)\n",
    "print(response)"
   ]
  },
  {
   "cell_type": "markdown",
   "metadata": {},
   "source": [
    "## Task: Check grammar"
   ]
  },
  {
   "cell_type": "code",
   "execution_count": 33,
   "metadata": {},
   "outputs": [],
   "source": [
    "# Tách đoạn văn thành danh sách các câu\n",
    "import re\n",
    "\n",
    "paragraph = 'ネットワークIP (Internet Protocol) は、現代の情報技術において中心的な役割を果たしています。\\\n",
    "        IPアドレスは、コンピューターやネットワークデバイスがインターネット上で通信するために使用される一意の識別子であり、\\\n",
    "        IPv4やIPv6などのプロトコルに基づいて割り当てられます。\\\n",
    "        IPアドレスは、デバイスがデータを送受信するために使用され、\\\n",
    "        ネットワーク上で正確な場所を特定するのに役立ちます。\\\n",
    "        私は食べるにないことへない。'\n",
    "\n",
    "sentences = re.split('(?<=[。！？])', paragraph)\n",
    "\n",
    "# Loại bỏ khoảng trắng thừa\n",
    "sentences = [sentence.strip() for sentence in sentences if sentence.strip()]\n"
   ]
  },
  {
   "cell_type": "code",
   "execution_count": 41,
   "metadata": {},
   "outputs": [
    {
     "name": "stdout",
     "output_type": "stream",
     "text": [
      "No errors found.\n",
      "No errors found.\n",
      "No errors found.\n",
      "私は食べるにないことへない。\n",
      "No errors found.\n"
     ]
    }
   ],
   "source": [
    "text = sentences\n",
    "for t in text:\n",
    "    prompt = f\"\"\"Proofread and correct the following text\n",
    "    and rewrite the corrected version. If you don't find\n",
    "    and errors, just say \"No errors found\". Don't use \n",
    "    any punctuation around the text. \n",
    "    ```{t}```\"\"\"\n",
    "    response = get_completion(prompt)\n",
    "    print(response)"
   ]
  },
  {
   "cell_type": "markdown",
   "metadata": {},
   "source": [
    "## Task: Gen Quiz"
   ]
  },
  {
   "cell_type": "code",
   "execution_count": null,
   "metadata": {},
   "outputs": [],
   "source": []
  },
  {
   "cell_type": "code",
   "execution_count": null,
   "metadata": {},
   "outputs": [],
   "source": []
  },
  {
   "cell_type": "code",
   "execution_count": null,
   "metadata": {},
   "outputs": [],
   "source": []
  }
 ],
 "metadata": {
  "kernelspec": {
   "display_name": "base",
   "language": "python",
   "name": "python3"
  },
  "language_info": {
   "codemirror_mode": {
    "name": "ipython",
    "version": 3
   },
   "file_extension": ".py",
   "mimetype": "text/x-python",
   "name": "python",
   "nbconvert_exporter": "python",
   "pygments_lexer": "ipython3",
   "version": "3.11.5"
  }
 },
 "nbformat": 4,
 "nbformat_minor": 2
}
